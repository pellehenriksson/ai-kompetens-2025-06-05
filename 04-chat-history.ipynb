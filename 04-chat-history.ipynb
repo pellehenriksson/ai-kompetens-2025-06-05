{
 "cells": [
  {
   "cell_type": "markdown",
   "metadata": {},
   "source": [
    "### 04. chat history\n",
    "\n",
    "- modeller är stateless, för att föra en konversation behöver hela historiken skickas fram och tillbaka"
   ]
  },
  {
   "cell_type": "code",
   "execution_count": 2,
   "metadata": {},
   "outputs": [],
   "source": [
    "import os\n",
    "from dotenv import load_dotenv\n",
    "from pydantic import BaseModel\n",
    "\n",
    "from google import genai # client for google gemini api\n",
    "from google.genai import types\n",
    "\n",
    "load_dotenv()\n",
    "API_KEY = os.getenv(\"GOOGLE_API_KEY\") # load the api key from another file (.env)\n",
    "\n",
    "client = genai.Client(api_key=API_KEY) # create an instance of the client"
   ]
  },
  {
   "cell_type": "code",
   "execution_count": 3,
   "metadata": {},
   "outputs": [],
   "source": [
    "contents = [types.Content(role=\"user\", parts=[types.Part(text=\"What is 25 * 4?\")])]"
   ]
  },
  {
   "cell_type": "code",
   "execution_count": null,
   "metadata": {},
   "outputs": [],
   "source": [
    "response = client.models.generate_content(\n",
    "        model=\"gemini-2.0-flash\", contents=contents\n",
    "    )\n",
    "\n",
    "result = response.candidates[0].content.parts[0].text\n",
    "\n",
    "contents.append(types.Content(role=\"model\", parts=[types.Part(text=result)]))"
   ]
  }
 ],
 "metadata": {
  "kernelspec": {
   "display_name": ".venv",
   "language": "python",
   "name": "python3"
  },
  "language_info": {
   "codemirror_mode": {
    "name": "ipython",
    "version": 3
   },
   "file_extension": ".py",
   "mimetype": "text/x-python",
   "name": "python",
   "nbconvert_exporter": "python",
   "pygments_lexer": "ipython3",
   "version": "3.13.3"
  }
 },
 "nbformat": 4,
 "nbformat_minor": 2
}
