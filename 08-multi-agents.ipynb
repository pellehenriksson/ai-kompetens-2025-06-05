{
 "cells": [
  {
   "cell_type": "markdown",
   "metadata": {},
   "source": [
    "### 08. multi-agents\n",
    "\n",
    "- flera agenter samarbetar för att lösa en uppgift\n",
    "- varje agent har en specifik uppgift som löser en del av totalen\n",
    "- A2A: på samma sätt som MCP exponerar funktionallitet för en LLM är tanken att A2A ska exponera funktionallitet mellanagenter\n",
    "    - detta är inte starkt förankrat\n",
    "    - agent card\n",
    "\n",
    "\n",
    "todo: rita en bild\n",
    "research: https://www.youtube.com/watch?v=voaKr_JHvF4\n"
   ]
  }
 ],
 "metadata": {
  "language_info": {
   "name": "python"
  }
 },
 "nbformat": 4,
 "nbformat_minor": 2
}
