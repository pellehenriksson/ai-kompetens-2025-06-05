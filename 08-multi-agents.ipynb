{
 "cells": [
  {
   "cell_type": "markdown",
   "metadata": {},
   "source": [
    "### 08. Multi-agents\n",
    "\n",
    "- flera agenter samarbetar för att lösa en större uppgift\n",
    "- varje agent har en specifik uppgift som löser en del av totalen\n",
    "\n",
    "**A2A** (agent-to-agent)\n",
    "- på samma sätt som MCP exponerar funktionallitet för en LLM är tanken att A2A ska exponera funktionallitet mellan agenter\n",
    "    - detta är inte starkt förankrat \n",
    "    - agent card\n",
    "\n",
    "![08 diagram](docs/08.drawio.png)"
   ]
  }
 ],
 "metadata": {
  "language_info": {
   "name": "python"
  }
 },
 "nbformat": 4,
 "nbformat_minor": 2
}
