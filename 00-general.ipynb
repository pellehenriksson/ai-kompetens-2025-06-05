{
 "cells": [
  {
   "cell_type": "markdown",
   "metadata": {},
   "source": [
    "providers\n",
    "\n",
    "hur man använder, konto - key\n",
    "tokens\n",
    "kostnader\n",
    "olika modeller för olika saker\n",
    "stateless"
   ]
  }
 ],
 "metadata": {
  "language_info": {
   "name": "python"
  }
 },
 "nbformat": 4,
 "nbformat_minor": 2
}
