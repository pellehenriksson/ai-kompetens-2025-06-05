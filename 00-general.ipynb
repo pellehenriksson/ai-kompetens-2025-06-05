{
 "cells": [
  {
   "cell_type": "markdown",
   "metadata": {},
   "source": [
    "### 00. Om LLM'er (large language model)\n",
    "\n",
    "De flesta tjänster finns både med ett chattliknande gränssnitt och som ett API.\n",
    "\n",
    "##### Några populära komersiella varianter\n",
    "- ChatGPT - Open AI\n",
    "- Google Gemini - Google\n",
    "- Claude - Anthropic\n",
    "\n",
    "##### Det finns även gratis modeller som går att köra lokalt\n",
    "- llama / ollama - Meta https://ollama.com/search\n",
    "\n",
    "##### Varje tjänst erbjuder flera olika modeller\n",
    "modeller finns i flera generationer, kan vara designade för olika syften och ha olika kostnader för användade\n",
    "ju nyare modell ju dyrare, ofta klarar man sig med äldre, enklare modeller\n",
    "\n",
    "| ChatGPT | Google Gemini | Anthropic |\n",
    "|---------|---------------|--------|\n",
    "|GPT-4.1  |gemini-2.5-flash-preview-05-20 |Claude Opus 4 |\n",
    "|o4-mini  |gemini-2.0-flash |Claude Sonnet 3.7 |\n",
    "|o3       |gemini-2.0-flash-lite |Claude Haiku 3.5|\n",
    "|GPT-3.5 Turbo |gemini-1.5-flash |...|\n",
    "|... |... |\n",
    "\n",
    "##### Komma igång med API'er\n",
    "- skapa ett konto hos någon komersiell aktör\n",
    "- ange betalningsinformation\n",
    "- generera en API-nyckel\n",
    "- ladda ner paket för vald tjänst\n",
    "- skriv kod ocn ange API-nyckel i anropen\n",
    "\n",
    "##### Användandet av en tjänst beräknas i 'tokens'\n",
    " - en token kan vara ett ord, en del av ett ord eller ett tecken\n",
    " - Exempel: Frasen \"ChatGPT är bra!\" blir ungefär 5 tokens: \"Chat\", \"G\", \"PT\", \" är\", \" bra!\"\n",
    "\n",
    "När du använder en LLM betalar du vanligtvis per 1000 tokens. Tokenkostnaden gäller både:\n",
    "- Prompt (input): den text du skickar in\n",
    "- Completion (output): det svar modellen genererar\n",
    "- GPT-3.5-turbo kostar ca $0.0015 / $0.002\n",
    "\n",
    "#### API'er är stateless\n",
    "API'ier är 'stateless' vilket innebär att de kommer inte ihåg något mellan anropen. Det innebär att i en konversation med en AI\n",
    "skickas hela konversationen fram och tillbaka vid varje anrop. En längre konversation kan bränna många tokens.\n",
    "\n"
   ]
  }
 ],
 "metadata": {
  "language_info": {
   "name": "python"
  }
 },
 "nbformat": 4,
 "nbformat_minor": 2
}
