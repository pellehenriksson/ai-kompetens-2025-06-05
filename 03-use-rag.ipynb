{
 "cells": [
  {
   "cell_type": "markdown",
   "metadata": {},
   "source": [
    "### 03. RAG - Retrieval-Augmented Generation\n",
    "\n",
    "- skicka med information som man önskar att LLM använder för att generera ett svar\n",
    "- kan vara egen data som modell ej är tränad på eller data som är nyare än modellens träningsdata\n",
    "\n",
    "- todo: maybe use vector db? https://www.youtube.com/watch?v=JfSmffOyV-8&t=488s\n",
    "- todo: https://docs.trychroma.com/docs/overview/getting-started\n",
    "\n",
    "![03 diagram](docs/03.drawio.png)"
   ]
  },
  {
   "cell_type": "code",
   "execution_count": 24,
   "metadata": {},
   "outputs": [],
   "source": [
    "import os\n",
    "from dotenv import load_dotenv\n",
    "from pydantic import BaseModel\n",
    "\n",
    "from google import genai  # client for google gemini api"
   ]
  },
  {
   "cell_type": "code",
   "execution_count": 25,
   "metadata": {},
   "outputs": [],
   "source": [
    "load_dotenv()\n",
    "API_KEY = os.getenv(\"GOOGLE_API_KEY\")  # load the api key from another file (.env)"
   ]
  },
  {
   "cell_type": "code",
   "execution_count": 26,
   "metadata": {},
   "outputs": [],
   "source": [
    "client = genai.Client(api_key=API_KEY)  # create an instance of the client"
   ]
  },
  {
   "cell_type": "code",
   "execution_count": null,
   "metadata": {},
   "outputs": [],
   "source": [
    "response = client.models.generate_content(\n",
    "    model=\"gemini-2.0-flash\", contents=\"who won the masters in 2025?\"\n",
    ")\n",
    "\n",
    "print(response.candidates[0].content.parts[0].text)"
   ]
  },
  {
   "cell_type": "code",
   "execution_count": 28,
   "metadata": {},
   "outputs": [],
   "source": [
    "# provide information that can be used by the model\n",
    "\n",
    "winners = None\n",
    "with open(\"data/masters-winners.csv\", encoding=\"utf-8\") as f:\n",
    "    winners = f.read()"
   ]
  },
  {
   "cell_type": "code",
   "execution_count": null,
   "metadata": {},
   "outputs": [],
   "source": [
    "response = client.models.generate_content(\n",
    "    model=\"gemini-2.0-flash\",\n",
    "    contents=f\"Use the following information to answer the question: {winners}. Who won the masters in 2025?\",\n",
    ")\n",
    "\n",
    "# print the response\n",
    "print(response.candidates[0].content.parts[0].text)"
   ]
  },
  {
   "cell_type": "code",
   "execution_count": 46,
   "metadata": {},
   "outputs": [],
   "source": [
    "class WinnerResponse(BaseModel):\n",
    "    winner: str | None\n",
    "    year: int | None\n",
    "    score: str | None"
   ]
  },
  {
   "cell_type": "code",
   "execution_count": null,
   "metadata": {},
   "outputs": [],
   "source": [
    "# mixing provided data with the models training data is hard 🥲\n",
    "# answer as text fails but when asking for a structured response if succeeds\n",
    "\n",
    "prompt = \"\"\"\n",
    "    You are answering questions about the Masters golf tournament.\n",
    "    Use your own knowledge first. Only refer to the following data if you're unsure or if your own answer is incomplete: {winners}\n",
    "\n",
    "    Question: Who won the Masters in 1985 and what was the winning score?    \n",
    "\"\"\"\n",
    "\n",
    "response = client.models.generate_content(\n",
    "    model=\"gemini-2.0-flash\",\n",
    "    contents=prompt.strip(),\n",
    "    config={\n",
    "        \"response_mime_type\": \"application/json\",\n",
    "        \"response_schema\": WinnerResponse,\n",
    "    },  # define structured response\n",
    ")\n",
    "\n",
    "result = response.parsed\n",
    "print(result.model_dump())\n",
    "\n",
    "# print(response.candidates[0].content.parts[0].text)"
   ]
  }
 ],
 "metadata": {
  "kernelspec": {
   "display_name": ".venv",
   "language": "python",
   "name": "python3"
  },
  "language_info": {
   "codemirror_mode": {
    "name": "ipython",
    "version": 3
   },
   "file_extension": ".py",
   "mimetype": "text/x-python",
   "name": "python",
   "nbconvert_exporter": "python",
   "pygments_lexer": "ipython3",
   "version": "3.13.3"
  }
 },
 "nbformat": 4,
 "nbformat_minor": 2
}
