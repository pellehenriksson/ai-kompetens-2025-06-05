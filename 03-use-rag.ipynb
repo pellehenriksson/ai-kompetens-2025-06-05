{
 "cells": [
  {
   "cell_type": "markdown",
   "metadata": {},
   "source": [
    "### 03. RAG - Retrieval-Augmented Generation\n",
    "\n",
    "- skicka med information som man önskar att LLM använder för att generera ett svar\n",
    "- kan vara egen data som modell ej är tränad på eller data som är nyare än modellens träningsdata\n",
    "\n",
    "![03 diagram](docs/03.drawio.png)"
   ]
  },
  {
   "cell_type": "code",
   "execution_count": 1,
   "metadata": {},
   "outputs": [],
   "source": [
    "import os\n",
    "\n",
    "from dotenv import load_dotenv\n",
    "from pydantic import BaseModel\n",
    "\n",
    "from google import genai"
   ]
  },
  {
   "cell_type": "code",
   "execution_count": 2,
   "metadata": {},
   "outputs": [],
   "source": [
    "load_dotenv()\n",
    "API_KEY = os.getenv(\"GOOGLE_API_KEY\")\n",
    "\n",
    "client = genai.Client(api_key=API_KEY)"
   ]
  },
  {
   "cell_type": "code",
   "execution_count": 3,
   "metadata": {},
   "outputs": [
    {
     "name": "stdout",
     "output_type": "stream",
     "text": [
      "As an AI, I do not have access to the future. Therefore, I cannot tell you who won the Masters in 2025.\n",
      "\n"
     ]
    }
   ],
   "source": [
    "# ställ fråga där modell inte vet svaret\n",
    "\n",
    "response = client.models.generate_content(\n",
    "    model=\"gemini-2.0-flash\", contents=\"who won the masters in 2025?\"\n",
    ")\n",
    "\n",
    "print(response.candidates[0].content.parts[0].text)"
   ]
  },
  {
   "cell_type": "code",
   "execution_count": 4,
   "metadata": {},
   "outputs": [],
   "source": [
    "# förse modellen med information\n",
    "\n",
    "winners = None\n",
    "with open(\"data/masters-winners.csv\", encoding=\"utf-8\") as f:\n",
    "    winners = f.read()"
   ]
  },
  {
   "cell_type": "code",
   "execution_count": 5,
   "metadata": {},
   "outputs": [
    {
     "name": "stdout",
     "output_type": "stream",
     "text": [
      "Rory McIlroy\n"
     ]
    }
   ],
   "source": [
    "response = client.models.generate_content(\n",
    "    model=\"gemini-2.0-flash\",\n",
    "    contents=f\"Use the following information to answer the question: {winners}. Who won the masters in 2025?\",\n",
    ")\n",
    "\n",
    "print(response.candidates[0].content.parts[0].text)"
   ]
  },
  {
   "cell_type": "code",
   "execution_count": 6,
   "metadata": {},
   "outputs": [],
   "source": [
    "class WinnerResponse(BaseModel):\n",
    "    winner: str | None\n",
    "    year: int | None\n",
    "    score: str | None"
   ]
  },
  {
   "cell_type": "code",
   "execution_count": 7,
   "metadata": {},
   "outputs": [
    {
     "name": "stdout",
     "output_type": "stream",
     "text": [
      "{'winner': 'Bernhard Langer', 'year': 1985, 'score': '-6'}\n"
     ]
    }
   ],
   "source": [
    "# mixing provided data with the models training data is hard 🥲\n",
    "# answer as text fails but when asking for a structured response if succeeds\n",
    "\n",
    "prompt = \"\"\"\n",
    "    You are answering questions about the Masters golf tournament.\n",
    "    Use your own knowledge first. Only refer to the following data if you're unsure or if your own answer is incomplete: {winners}\n",
    "\n",
    "    Question: Who won the Masters in 1985 and what was the winning score?    \n",
    "\"\"\"\n",
    "\n",
    "response = client.models.generate_content(\n",
    "    model=\"gemini-2.0-flash\",\n",
    "    contents=prompt.strip(),\n",
    "    config={\n",
    "        \"response_mime_type\": \"application/json\",\n",
    "        \"response_schema\": WinnerResponse,\n",
    "    },  # define structured response\n",
    ")\n",
    "\n",
    "result = response.parsed\n",
    "print(result.model_dump())"
   ]
  }
 ],
 "metadata": {
  "kernelspec": {
   "display_name": ".venv",
   "language": "python",
   "name": "python3"
  },
  "language_info": {
   "codemirror_mode": {
    "name": "ipython",
    "version": 3
   },
   "file_extension": ".py",
   "mimetype": "text/x-python",
   "name": "python",
   "nbconvert_exporter": "python",
   "pygments_lexer": "ipython3",
   "version": "3.13.3"
  }
 },
 "nbformat": 4,
 "nbformat_minor": 2
}
