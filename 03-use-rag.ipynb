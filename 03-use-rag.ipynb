{
 "cells": [
  {
   "cell_type": "markdown",
   "metadata": {},
   "source": [
    "### 03. RAG - Retrieval-Augmented Generation\n",
    "\n",
    "- skicka med information som man önskar att LLM använder för att generera ett svar\n",
    "- kan vara egen data som modell ej är tränad på eller data som är nyare än modellens träningsdata\n"
   ]
  },
  {
   "cell_type": "code",
   "execution_count": 2,
   "metadata": {},
   "outputs": [],
   "source": [
    "import os\n",
    "from dotenv import load_dotenv\n",
    "from pydantic import BaseModel\n",
    "\n",
    "from google import genai # client for google gemini api"
   ]
  },
  {
   "cell_type": "code",
   "execution_count": 3,
   "metadata": {},
   "outputs": [],
   "source": [
    "load_dotenv()\n",
    "API_KEY = os.getenv(\"GOOGLE_API_KEY\") # load the api key from another file (.env)"
   ]
  },
  {
   "cell_type": "code",
   "execution_count": 4,
   "metadata": {},
   "outputs": [],
   "source": [
    "client = genai.Client(api_key=API_KEY) # create an instance of the client"
   ]
  },
  {
   "cell_type": "code",
   "execution_count": 19,
   "metadata": {},
   "outputs": [
    {
     "name": "stdout",
     "output_type": "stream",
     "text": [
      "As an AI, I do not have access to real-time information, including sports results that haven't happened yet. The Masters Tournament 2025 has not taken place, so there is no winner yet. It will be held in April 2025.\n",
      "\n"
     ]
    }
   ],
   "source": [
    "# load data to be provided to the model\n",
    "response = client.models.generate_content(\n",
    "    model=\"gemini-2.0-flash\",\n",
    "    contents=f\"who won the masters in 2025?\"\n",
    ")\n",
    "\n",
    "# print the response\n",
    "print(response.candidates[0].content.parts[0].text)"
   ]
  },
  {
   "cell_type": "code",
   "execution_count": 22,
   "metadata": {},
   "outputs": [],
   "source": [
    "# provide information that can be used by the model\n",
    "\n",
    "winners = None\n",
    "with open(\"data/masters-winners.csv\", encoding=\"utf-8\") as f:\n",
    "    winners = f.read()\n"
   ]
  },
  {
   "cell_type": "code",
   "execution_count": 23,
   "metadata": {},
   "outputs": [
    {
     "name": "stdout",
     "output_type": "stream",
     "text": [
      "Rory McIlroy won the Masters in 2025.\n",
      "\n"
     ]
    }
   ],
   "source": [
    "# load data to be provided to the model\n",
    "response = client.models.generate_content(\n",
    "    model=\"gemini-2.0-flash\",\n",
    "    contents=f\"feel free to use the following information to answer the question: {winners}, who won the masters in 2025? \"\n",
    ")\n",
    "\n",
    "# print the response\n",
    "print(response.candidates[0].content.parts[0].text)\n"
   ]
  }
 ],
 "metadata": {
  "kernelspec": {
   "display_name": ".venv",
   "language": "python",
   "name": "python3"
  },
  "language_info": {
   "codemirror_mode": {
    "name": "ipython",
    "version": 3
   },
   "file_extension": ".py",
   "mimetype": "text/x-python",
   "name": "python",
   "nbconvert_exporter": "python",
   "pygments_lexer": "ipython3",
   "version": "3.13.3"
  }
 },
 "nbformat": 4,
 "nbformat_minor": 2
}
