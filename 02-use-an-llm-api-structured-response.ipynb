{
 "cells": [
  {
   "cell_type": "markdown",
   "metadata": {},
   "source": [
    "### 2. Strukturera svar med JSON/Pydantic\n",
    "\n",
    "- Enkelt anrop mot Google Gemini med google-generativeai\n",
    "- Prompt in, strukturerad respons ut"
   ]
  },
  {
   "cell_type": "code",
   "execution_count": 5,
   "metadata": {},
   "outputs": [],
   "source": [
    "import os\n",
    "from dotenv import load_dotenv\n",
    "from pydantic import BaseModel\n",
    "\n",
    "from google import genai # client for google gemini api"
   ]
  },
  {
   "cell_type": "code",
   "execution_count": 6,
   "metadata": {},
   "outputs": [],
   "source": [
    "load_dotenv()\n",
    "API_KEY = os.getenv(\"GOOGLE_API_KEY\") # load the api key from another file (.env)"
   ]
  },
  {
   "cell_type": "code",
   "execution_count": 7,
   "metadata": {},
   "outputs": [],
   "source": [
    "client = genai.Client(api_key=API_KEY) # create an instance of the client"
   ]
  },
  {
   "cell_type": "code",
   "execution_count": 14,
   "metadata": {},
   "outputs": [],
   "source": [
    "# define class for structured response\n",
    "\n",
    "class AddressResponse(BaseModel):\n",
    "    street: str | None\n",
    "    street_number: str | None\n",
    "    area: str | None\n",
    "    city: str | None\n",
    "    country: str | None\n",
    "    phone: str | None\n",
    "    email: str | None"
   ]
  },
  {
   "cell_type": "code",
   "execution_count": 15,
   "metadata": {},
   "outputs": [],
   "source": [
    "data = \"välkommen till slupvägen, denna härliga gata på teleborg i växjö, 11 var numret, osa senast 12 januari slå en pling till 047081787 eller skicka mail till hej@test.nu\""
   ]
  },
  {
   "cell_type": "code",
   "execution_count": 16,
   "metadata": {},
   "outputs": [
    {
     "name": "stdout",
     "output_type": "stream",
     "text": [
      "{'street': 'slupvägen', 'street_number': '11', 'area': 'teleborg', 'city': 'växjö', 'country': None, 'phone': '047081787', 'email': 'hej@test.nu'}\n"
     ]
    }
   ],
   "source": [
    "\n",
    "response = client.models.generate_content(\n",
    "    model=\"gemini-2.0-flash\",\n",
    "    contents=f\"extract address and contact information from this text: '{data}'\",\n",
    "    config={\"response_mime_type\": \"application/json\", \"response_schema\": AddressResponse}, # define structured response\n",
    ")\n",
    "\n",
    "print(response.parsed.model_dump())\n"
   ]
  }
 ],
 "metadata": {
  "kernelspec": {
   "display_name": ".venv",
   "language": "python",
   "name": "python3"
  },
  "language_info": {
   "codemirror_mode": {
    "name": "ipython",
    "version": 3
   },
   "file_extension": ".py",
   "mimetype": "text/x-python",
   "name": "python",
   "nbconvert_exporter": "python",
   "pygments_lexer": "ipython3",
   "version": "3.13.3"
  }
 },
 "nbformat": 4,
 "nbformat_minor": 2
}
