{
 "cells": [
  {
   "cell_type": "markdown",
   "metadata": {},
   "source": [
    "### 02. anropa ett LLM api, begär ett strukturerat svar\n",
    "\n",
    "- Enkelt anrop mot LLM API (Google Gemini med google-generativeai)\n",
    "- Prompt in, strukturerat svar ut\n",
    "\n",
    "![02 diagram](docs/02.drawio.png)"
   ]
  },
  {
   "cell_type": "code",
   "execution_count": 1,
   "metadata": {},
   "outputs": [],
   "source": [
    "import os\n",
    "\n",
    "from dotenv import load_dotenv\n",
    "from pydantic import BaseModel\n",
    "\n",
    "from google import genai"
   ]
  },
  {
   "cell_type": "code",
   "execution_count": 2,
   "metadata": {},
   "outputs": [],
   "source": [
    "load_dotenv()\n",
    "API_KEY = os.getenv(\"GOOGLE_API_KEY\")\n",
    "\n",
    "client = genai.Client(api_key=API_KEY)"
   ]
  },
  {
   "cell_type": "code",
   "execution_count": 3,
   "metadata": {},
   "outputs": [],
   "source": [
    "# api ska plocka ut information ur denna text\n",
    "\n",
    "data = \"välkommen till slupvägen, denna härliga gata på teleborg i växjö, 11 var numret, osa senast 12 januari slå en pling till 047081787 eller skicka mail till hej@test.nu\""
   ]
  },
  {
   "cell_type": "code",
   "execution_count": 4,
   "metadata": {},
   "outputs": [],
   "source": [
    "# definera klass för strukturerat svar\n",
    "\n",
    "\n",
    "class AddressResponse(BaseModel):\n",
    "    street: str | None\n",
    "    street_number: str | None\n",
    "    area: str | None\n",
    "    city: str | None\n",
    "    country: str | None\n",
    "    phone: str | None\n",
    "    email: str | None"
   ]
  },
  {
   "cell_type": "code",
   "execution_count": null,
   "metadata": {},
   "outputs": [],
   "source": [
    "response = client.models.generate_content(\n",
    "    model=\"gemini-2.0-flash\",\n",
    "    contents=f\"extract address and contact information from this text: '{data}'\",\n",
    "    config={\n",
    "        \"response_mime_type\": \"application/json\",\n",
    "        \"response_schema\": AddressResponse,\n",
    "    },\n",
    ")\n",
    "\n",
    "print(response.parsed.model_dump())"
   ]
  }
 ],
 "metadata": {
  "kernelspec": {
   "display_name": ".venv",
   "language": "python",
   "name": "python3"
  },
  "language_info": {
   "codemirror_mode": {
    "name": "ipython",
    "version": 3
   },
   "file_extension": ".py",
   "mimetype": "text/x-python",
   "name": "python",
   "nbconvert_exporter": "python",
   "pygments_lexer": "ipython3",
   "version": "3.13.3"
  }
 },
 "nbformat": 4,
 "nbformat_minor": 2
}
