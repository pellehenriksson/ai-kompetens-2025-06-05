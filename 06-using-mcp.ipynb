{
 "cells": [
  {
   "cell_type": "markdown",
   "metadata": {},
   "source": [
    "### 06. MCP (model context protocol) en standardiserat sätt att exponera 'tools'\n",
    "\n",
    "- MCP är ett protokoll som exponerar:\n",
    "    - tools (actions)\n",
    "    - resources (data)\n",
    "    - prompts (instruktioner som passar för givet område)\n",
    "\n",
    "- Många komersiella aktörer har idag MCP servrar så att deras system kan integreras i LLM-sammanhang\n",
    "\n",
    "![06 diagram](docs/06.drawio.png)"
   ]
  },
  {
   "cell_type": "markdown",
   "metadata": {},
   "source": [
    "![mcp before after diagram](docs/mcp-before-after.webp)"
   ]
  },
  {
   "cell_type": "markdown",
   "metadata": {},
   "source": [
    "https://github.com/punkpeye/awesome-mcp-servers"
   ]
  }
 ],
 "metadata": {
  "language_info": {
   "name": "python"
  }
 },
 "nbformat": 4,
 "nbformat_minor": 2
}
