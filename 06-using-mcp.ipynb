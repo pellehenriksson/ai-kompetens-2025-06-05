{
 "cells": [
  {
   "cell_type": "markdown",
   "metadata": {},
   "source": [
    "### 06. MCP (model context protocol) en standardiserat sätt att exponera resurser\n",
    "\n",
    "- mcp är ett protokoll \n",
    "\n",
    "# todo: fix image client should be cliet with mcp support\n",
    "\n",
    "![06 diagram](docs/06.drawio.png)"
   ]
  },
  {
   "cell_type": "markdown",
   "metadata": {},
   "source": [
    "![mcp before after diagram](docs/mcp-before-after.webp)"
   ]
  },
  {
   "cell_type": "markdown",
   "metadata": {},
   "source": [
    "https://github.com/punkpeye/awesome-mcp-servers"
   ]
  }
 ],
 "metadata": {
  "language_info": {
   "name": "python"
  }
 },
 "nbformat": 4,
 "nbformat_minor": 2
}
