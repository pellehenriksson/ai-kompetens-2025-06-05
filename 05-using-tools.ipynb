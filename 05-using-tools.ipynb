{
 "cells": [
  {
   "cell_type": "markdown",
   "metadata": {},
   "source": [
    "### 05. använda 'tools' med llms\n",
    "\n",
    "- ge en modell tillgång till funktioner för att lösa problem exempelvis matematiska problem, access till privat data, \"dagsfärsk\" data.\n",
    "\n",
    "![05 diagram](docs/05.drawio.png)"
   ]
  },
  {
   "cell_type": "code",
   "execution_count": 89,
   "metadata": {},
   "outputs": [],
   "source": [
    "import os\n",
    "from datetime import datetime\n",
    "import json\n",
    "\n",
    "from dotenv import load_dotenv\n",
    "\n",
    "from google import genai\n",
    "from google.genai import types\n",
    "import httpx\n",
    "\n",
    "load_dotenv()\n",
    "API_KEY = os.getenv(\"GOOGLE_API_KEY\")\n",
    "\n",
    "client = genai.Client(api_key=API_KEY) "
   ]
  },
  {
   "cell_type": "code",
   "execution_count": 90,
   "metadata": {},
   "outputs": [],
   "source": [
    "promt = f\"What is the current ({datetime.today()}) temperature in Amsterdam?\""
   ]
  },
  {
   "cell_type": "code",
   "execution_count": null,
   "metadata": {},
   "outputs": [],
   "source": [
    "response = client.models.generate_content(\n",
    "    model=\"gemini-2.0-flash\",\n",
    "    contents=promt,\n",
    ")\n",
    "\n",
    "print(response.candidates[0].content.parts[0].text)"
   ]
  },
  {
   "cell_type": "code",
   "execution_count": 1,
   "metadata": {},
   "outputs": [],
   "source": [
    "# get coordinate from location name\n",
    "\n",
    "\n",
    "def get_location_coordinates(location: str) -> dict:\n",
    "    url = f\"https://maps.googleapis.com/maps/api/geocode/json?address={location}&key={API_KEY}\"\n",
    "\n",
    "    response = httpx.get(url)\n",
    "    result = json.loads(response.text)\n",
    "    location = result[\"results\"][0][\"geometry\"][\"location\"]\n",
    "\n",
    "    return {\"latitude\": location[\"lat\"], \"longitude\": location[\"lng\"]}"
   ]
  },
  {
   "cell_type": "code",
   "execution_count": 93,
   "metadata": {},
   "outputs": [],
   "source": [
    "# get temperature for location\n",
    "\n",
    "\n",
    "def get_current_temperature(location: str) -> dict:\n",
    "    coordiates = get_location_coordinates(location)\n",
    "\n",
    "    url = f\"https://weather.googleapis.com/v1/currentConditions:lookup?key={API_KEY}&location.latitude={coordiates['latitude']}&location.longitude={coordiates['longitude']}\"\n",
    "    response = httpx.get(url)\n",
    "    result = json.loads(response.text)\n",
    "\n",
    "    return {\n",
    "        \"temperature\": result[\"temperature\"][\"degrees\"],\n",
    "        \"unit\": result[\"temperature\"][\"unit\"],\n",
    "    }"
   ]
  },
  {
   "cell_type": "code",
   "execution_count": 94,
   "metadata": {},
   "outputs": [],
   "source": [
    "get_current_temperature_tool = {\n",
    "    \"name\": \"get_current_temperature\",\n",
    "    \"description\": \"returns the current temperature for a given location\",\n",
    "    \"parameters\": {\n",
    "        \"type\": \"object\",\n",
    "        \"properties\": {\n",
    "            \"location\": {\"type\": \"string\", \"description\": \"name of location\"},\n",
    "        },\n",
    "        \"required\": [\"location\"],\n",
    "    },\n",
    "}"
   ]
  },
  {
   "cell_type": "code",
   "execution_count": 95,
   "metadata": {},
   "outputs": [],
   "source": [
    "temp_tool = types.Tool(function_declarations=[get_current_temperature_tool])\n",
    "config = types.GenerateContentConfig(tools=[temp_tool])"
   ]
  },
  {
   "cell_type": "code",
   "execution_count": 96,
   "metadata": {},
   "outputs": [],
   "source": [
    "# when doing multiple calls to complete a task we need to keep the chat history\n",
    "contents = [types.Content(role=\"user\", parts=[types.Part(text=promt)])]"
   ]
  },
  {
   "cell_type": "code",
   "execution_count": null,
   "metadata": {},
   "outputs": [],
   "source": [
    "response = client.models.generate_content(\n",
    "    model=\"gemini-2.0-flash\", contents=contents, config=config\n",
    ")\n",
    "\n",
    "if response.candidates[0].content.parts[0].function_call:\n",
    "    tool_to_call = response.candidates[0].content.parts[0].function_call\n",
    "\n",
    "    if tool_to_call.name == \"get_current_temperature\":\n",
    "        tool_result = get_current_temperature(**tool_to_call.args)\n",
    "\n",
    "        # add model call to tool chat history\n",
    "        contents.append(\n",
    "            types.Content(role=\"model\", parts=[types.Part(function_call=tool_to_call)])\n",
    "        )\n",
    "\n",
    "        tool_result_part = types.Part.from_function_response(\n",
    "            name=tool_to_call.name, response={\"result\": tool_result}\n",
    "        )\n",
    "\n",
    "        # add tool call result to chat history\n",
    "        contents.append(types.Content(role=\"user\", parts=[tool_result_part]))\n",
    "\n",
    "        # make new call to model with chat history\n",
    "        response = client.models.generate_content(\n",
    "            model=\"gemini-2.0-flash\", contents=contents, config=config\n",
    "        )\n",
    "\n",
    "        # add model response to history\n",
    "        contents.append(\n",
    "            types.Content(role=\"model\", parts=[types.Part(text=response.text)])\n",
    "        )\n",
    "\n",
    "        print(response.text)\n",
    "\n",
    "    for c in contents:\n",
    "        print(c)"
   ]
  }
 ],
 "metadata": {
  "kernelspec": {
   "display_name": ".venv",
   "language": "python",
   "name": "python3"
  },
  "language_info": {
   "codemirror_mode": {
    "name": "ipython",
    "version": 3
   },
   "file_extension": ".py",
   "mimetype": "text/x-python",
   "name": "python",
   "nbconvert_exporter": "python",
   "pygments_lexer": "ipython3",
   "version": "3.13.3"
  }
 },
 "nbformat": 4,
 "nbformat_minor": 2
}
