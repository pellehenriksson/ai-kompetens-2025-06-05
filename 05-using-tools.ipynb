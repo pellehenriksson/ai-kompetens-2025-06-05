{
 "cells": [
  {
   "cell_type": "markdown",
   "metadata": {},
   "source": [
    "### 05. using tools with llms\n",
    "\n",
    "- ge en modell tillgång till funktioner för att lösa problem, exempelvis matematik, privat data, dagsfärsk data"
   ]
  },
  {
   "cell_type": "code",
   "execution_count": 34,
   "metadata": {},
   "outputs": [],
   "source": [
    "import os\n",
    "from datetime import datetime\n",
    "import json\n",
    "\n",
    "from dotenv import load_dotenv\n",
    "#from pydantic import BaseModel\n",
    "\n",
    "from google import genai # client for google gemini api\n",
    "from google.genai import types\n",
    "import httpx\n",
    "\n",
    "load_dotenv()\n",
    "API_KEY = os.getenv(\"GOOGLE_API_KEY\") # load the api key from another file (.env)\n",
    "\n",
    "client = genai.Client(api_key=API_KEY) # create an instance of the client"
   ]
  },
  {
   "cell_type": "code",
   "execution_count": 28,
   "metadata": {},
   "outputs": [],
   "source": [
    "promt = f\"What is the current ({datetime.today()}) temperature in Amsterdam?\""
   ]
  },
  {
   "cell_type": "code",
   "execution_count": 29,
   "metadata": {},
   "outputs": [
    {
     "name": "stdout",
     "output_type": "stream",
     "text": [
      "I am unable to provide you with the current temperature in Amsterdam. I do not have real-time access to weather data.\n",
      "\n",
      "To find the current temperature, I recommend using a reliable weather app or website like:\n",
      "\n",
      "*   **Google Weather:** Search \"weather in Amsterdam\" on Google.\n",
      "*   **AccuWeather:** [https://www.accuweather.com/](https://www.accuweather.com/)\n",
      "*   **The Weather Channel:** [https://weather.com/](https://weather.com/)\n",
      "*   **Local Dutch weather services (e.g., KNMI):** If you know of any local Dutch weather services, they might provide more accurate, localized data.\n",
      "\n",
      "These sources should give you the most up-to-date information.\n",
      "\n"
     ]
    }
   ],
   "source": [
    "response = client.models.generate_content(\n",
    "    model=\"gemini-2.0-flash\",\n",
    "    contents=promt,\n",
    ")\n",
    "\n",
    "print(response.candidates[0].content.parts[0].text)"
   ]
  },
  {
   "cell_type": "code",
   "execution_count": 35,
   "metadata": {},
   "outputs": [],
   "source": [
    "def get_location_coordinates(location: str) -> dict:\n",
    "    url = f\"https://maps.googleapis.com/maps/api/geocode/json?address={location}&key={API_KEY}\"\n",
    "\n",
    "    response = httpx.get(url)\n",
    "    result = json.loads(response.text)\n",
    "    location = result[\"results\"][0][\"geometry\"][\"location\"]\n",
    "\n",
    "    return {\"latitude\": location[\"lat\"], \"longitude\": location[\"lng\"]}"
   ]
  },
  {
   "cell_type": "code",
   "execution_count": 30,
   "metadata": {},
   "outputs": [],
   "source": [
    "def get_current_temperature(latitude: str, longitude: str) -> str:\n",
    "\n",
    "    url = f\"https://weather.googleapis.com/v1/currentConditions:lookup?key={API_KEY}&location.latitude={latitude}&location.longitude={longitude}\"\n",
    "    response = httpx.get(url)\n",
    "    result = json.loads(response.text)\n",
    "\n",
    "    return None\n"
   ]
  },
  {
   "cell_type": "code",
   "execution_count": 31,
   "metadata": {},
   "outputs": [],
   "source": [
    "get_current_temperature_tool = {\n",
    "    \"name\": \"get_current_temperature\",\n",
    "    \"description\": \"returns the current temperature for a given location\",\n",
    "    \"parameters\": {\n",
    "        \"type\": \"object\",\n",
    "        \"properties\": {\n",
    "            \"location\": {\"type\": \"string\", \"description\": \"name of location\"},\n",
    "        },\n",
    "        \"required\": [\"location\"]\n",
    "    },\n",
    "}"
   ]
  },
  {
   "cell_type": "code",
   "execution_count": 32,
   "metadata": {},
   "outputs": [],
   "source": [
    "temp_tool = types.Tool(function_declarations=[get_current_temperature_tool])\n",
    "config = types.GenerateContentConfig(tools=[temp_tool])"
   ]
  },
  {
   "cell_type": "code",
   "execution_count": 33,
   "metadata": {},
   "outputs": [
    {
     "name": "stdout",
     "output_type": "stream",
     "text": [
      "candidates=[Candidate(content=Content(parts=[Part(video_metadata=None, thought=None, inline_data=None, code_execution_result=None, executable_code=None, file_data=None, function_call=FunctionCall(id=None, args={'location': 'Amsterdam'}, name='get_current_temperature'), function_response=None, text=None)], role='model'), citation_metadata=None, finish_message=None, token_count=None, finish_reason=<FinishReason.STOP: 'STOP'>, url_context_metadata=None, avg_logprobs=1.9220169633626938e-06, grounding_metadata=None, index=None, logprobs_result=None, safety_ratings=None)] create_time=None response_id=None model_version='gemini-2.0-flash' prompt_feedback=None usage_metadata=GenerateContentResponseUsageMetadata(cache_tokens_details=None, cached_content_token_count=None, candidates_token_count=7, candidates_tokens_details=[ModalityTokenCount(modality=<MediaModality.TEXT: 'TEXT'>, token_count=7)], prompt_token_count=56, prompt_tokens_details=[ModalityTokenCount(modality=<MediaModality.TEXT: 'TEXT'>, token_count=56)], thoughts_token_count=None, tool_use_prompt_token_count=None, tool_use_prompt_tokens_details=None, total_token_count=63, traffic_type=None) automatic_function_calling_history=[] parsed=None\n"
     ]
    }
   ],
   "source": [
    "response = client.models.generate_content(\n",
    "    model=\"gemini-2.0-flash\",\n",
    "    contents=promt,\n",
    "    config=config\n",
    ")\n",
    "\n",
    "#print(response.candidates[0].content.parts[0].text)\n",
    "\n",
    "print(response)\n"
   ]
  }
 ],
 "metadata": {
  "kernelspec": {
   "display_name": ".venv",
   "language": "python",
   "name": "python3"
  },
  "language_info": {
   "codemirror_mode": {
    "name": "ipython",
    "version": 3
   },
   "file_extension": ".py",
   "mimetype": "text/x-python",
   "name": "python",
   "nbconvert_exporter": "python",
   "pygments_lexer": "ipython3",
   "version": "3.13.3"
  }
 },
 "nbformat": 4,
 "nbformat_minor": 2
}
