{
 "cells": [
  {
   "cell_type": "markdown",
   "metadata": {},
   "source": [
    "### 05. använda 'tools' med LLM\n",
    "\n",
    "- ge en modell tillgång till funktioner för att lösa problem, exempel: \n",
    "    - matematiska problem\n",
    "    - access till privat och/eller ny data\n",
    "    - utföra operationer i andra system\n",
    "\n",
    "![05 diagram](docs/05.drawio.png)"
   ]
  },
  {
   "cell_type": "code",
   "execution_count": 1,
   "metadata": {},
   "outputs": [],
   "source": [
    "import os\n",
    "from datetime import datetime\n",
    "\n",
    "from dotenv import load_dotenv\n",
    "\n",
    "from google import genai\n",
    "from google.genai import types\n",
    "\n",
    "load_dotenv()\n",
    "API_KEY = os.getenv(\"GOOGLE_API_KEY\")\n",
    "\n",
    "client = genai.Client(api_key=API_KEY)"
   ]
  },
  {
   "cell_type": "code",
   "execution_count": 2,
   "metadata": {},
   "outputs": [],
   "source": [
    "promt = f\"What is the current ({datetime.today()}) temperature in Amsterdam?\""
   ]
  },
  {
   "cell_type": "code",
   "execution_count": null,
   "metadata": {},
   "outputs": [],
   "source": [
    "response = client.models.generate_content(\n",
    "    model=\"gemini-2.0-flash\",\n",
    "    contents=promt,\n",
    ")\n",
    "\n",
    "print(response.candidates[0].content.parts[0].text)"
   ]
  },
  {
   "cell_type": "code",
   "execution_count": 4,
   "metadata": {},
   "outputs": [],
   "source": [
    "# 'tool' som modellen får tillgång till\n",
    "\n",
    "\n",
    "def get_current_temperature(location: str) -> dict:\n",
    "    return {\"temperature\": \"10\", \"unit\": \"Celcius\", \"location\": location}"
   ]
  },
  {
   "cell_type": "code",
   "execution_count": 5,
   "metadata": {},
   "outputs": [],
   "source": [
    "# metadata som beskriver 'tool' för modellen\n",
    "\n",
    "get_current_temperature_tool = {\n",
    "    \"name\": \"get_current_temperature\",\n",
    "    \"description\": \"returns the current temperature for a given location\",\n",
    "    \"parameters\": {\n",
    "        \"type\": \"object\",\n",
    "        \"properties\": {\n",
    "            \"location\": {\"type\": \"string\", \"description\": \"name of location\"},\n",
    "        },\n",
    "        \"required\": [\"location\"],\n",
    "    },\n",
    "}"
   ]
  },
  {
   "cell_type": "code",
   "execution_count": 6,
   "metadata": {},
   "outputs": [],
   "source": [
    "# anpasa metadata för klienten\n",
    "\n",
    "temp_tool = types.Tool(function_declarations=[get_current_temperature_tool])\n",
    "config = types.GenerateContentConfig(tools=[temp_tool])"
   ]
  },
  {
   "cell_type": "code",
   "execution_count": 7,
   "metadata": {},
   "outputs": [],
   "source": [
    "# när det krävs flera anrop för att lösa en uppgift behövshistoriken\n",
    "\n",
    "contents = [types.Content(role=\"user\", parts=[types.Part(text=promt)])]"
   ]
  },
  {
   "cell_type": "code",
   "execution_count": null,
   "metadata": {},
   "outputs": [],
   "source": [
    "# anropa api\n",
    "\n",
    "response = client.models.generate_content(\n",
    "    model=\"gemini-2.0-flash\", contents=contents, config=config\n",
    ")\n",
    "\n",
    "# om modellen vill använda 'tool'\n",
    "\n",
    "if response.candidates[0].content.parts[0].function_call:\n",
    "    tool_to_call = response.candidates[0].content.parts[0].function_call\n",
    "\n",
    "    # anropa 'tool'\n",
    "    if tool_to_call.name == \"get_current_temperature\":\n",
    "        tool_result = get_current_temperature(**tool_to_call.args)\n",
    "\n",
    "        # lägg till modellens svar i chathistoriken\n",
    "        contents.append(\n",
    "            types.Content(role=\"model\", parts=[types.Part(function_call=tool_to_call)])\n",
    "        )\n",
    "\n",
    "        # lägg till resultatet av 'tool'-anrop till chathistoriken\n",
    "        tool_result_part = types.Part.from_function_response(\n",
    "            name=tool_to_call.name, response={\"result\": tool_result}\n",
    "        )\n",
    "\n",
    "        contents.append(types.Content(role=\"user\", parts=[tool_result_part]))\n",
    "\n",
    "        # anropa api igen med chathistrik som innehåller resultatet av 'tool'-anrop\n",
    "        response = client.models.generate_content(\n",
    "            model=\"gemini-2.0-flash\", contents=contents, config=config\n",
    "        )\n",
    "\n",
    "        # lägg till modellens svar chathistoriken\n",
    "        contents.append(\n",
    "            types.Content(role=\"model\", parts=[types.Part(text=response.text)])\n",
    "        )\n",
    "\n",
    "        # skriv ut svar\n",
    "        print(response.text)\n",
    "\n",
    "    # skriv ut chathistorik\n",
    "    for c in contents:\n",
    "        print(c)"
   ]
  }
 ],
 "metadata": {
  "kernelspec": {
   "display_name": ".venv",
   "language": "python",
   "name": "python3"
  },
  "language_info": {
   "codemirror_mode": {
    "name": "ipython",
    "version": 3
   },
   "file_extension": ".py",
   "mimetype": "text/x-python",
   "name": "python",
   "nbconvert_exporter": "python",
   "pygments_lexer": "ipython3",
   "version": "3.13.3"
  }
 },
 "nbformat": 4,
 "nbformat_minor": 2
}
