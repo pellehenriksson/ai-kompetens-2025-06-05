{
 "cells": [
  {
   "cell_type": "markdown",
   "metadata": {},
   "source": [
    "### 07. AI-agent\n",
    "\n",
    "- En AI-agent är ett system/program som kan agera autonomt för att uppnå ett mål\n",
    "    - ta in information (input),\n",
    "    - fatta beslut baserat om vad som ska göras (LLM står för logiken)\n",
    "    - utföra åtgärder (använda 'tools').\n",
    "\n",
    "https://python.langchain.com/docs/integrations/chat/google_generative_ai/\n",
    "\n",
    "![07 diagram](docs/07.drawio.png)"
   ]
  },
  {
   "cell_type": "code",
   "execution_count": 1,
   "metadata": {},
   "outputs": [],
   "source": [
    "import os\n",
    "import json\n",
    "\n",
    "from dotenv import load_dotenv\n",
    "import httpx\n",
    "\n",
    "from langchain_google_genai import ChatGoogleGenerativeAI\n",
    "from langchain_core.tools import tool\n",
    "from langchain_core.messages import HumanMessage\n",
    "from langgraph.checkpoint.memory import MemorySaver\n",
    "from langgraph.prebuilt import create_react_agent\n",
    "\n",
    "\n",
    "load_dotenv()\n",
    "API_KEY = os.getenv(\"GOOGLE_API_KEY\")"
   ]
  },
  {
   "cell_type": "code",
   "execution_count": 2,
   "metadata": {},
   "outputs": [],
   "source": [
    "# obs: i detta exempel använder vi LangChain och LangGraph som är populära ramverk för bygga agenter (speciellt i python)\n",
    "# i .net-världen är Semantic Kernel ett populärt alternativ"
   ]
  },
  {
   "cell_type": "code",
   "execution_count": 3,
   "metadata": {},
   "outputs": [],
   "source": [
    "@tool\n",
    "def get_location_coordinates(location: str) -> dict:\n",
    "    \"\"\"returns coordinates in latitude and longitude for the given location\n",
    "\n",
    "    Args:\n",
    "        location (str): the location\n",
    "\n",
    "    Returns:\n",
    "        dict: latitude and longitude\n",
    "    \"\"\"\n",
    "\n",
    "    url = f\"https://maps.googleapis.com/maps/api/geocode/json?address={location}&key={API_KEY}\"\n",
    "\n",
    "    response = httpx.get(url)\n",
    "    result = json.loads(response.text)\n",
    "    location = result[\"results\"][0][\"geometry\"][\"location\"]\n",
    "\n",
    "    return {\"latitude\": location[\"lat\"], \"longitude\": location[\"lng\"]}"
   ]
  },
  {
   "cell_type": "code",
   "execution_count": 4,
   "metadata": {},
   "outputs": [],
   "source": [
    "@tool\n",
    "def get_current_temperature(latitude: str, longitude: str) -> dict:\n",
    "    \"\"\"return the current temperatire for the given coordinates\n",
    "\n",
    "    Args:\n",
    "        latitude (str): latitude\n",
    "        longitude (str): longitude\n",
    "\n",
    "    Returns:\n",
    "        dict: the temperature\n",
    "    \"\"\"\n",
    "\n",
    "    url = f\"https://weather.googleapis.com/v1/currentConditions:lookup?key={API_KEY}&location.latitude={latitude}&location.longitude={longitude}\"\n",
    "    response = httpx.get(url)\n",
    "    result = json.loads(response.text)\n",
    "\n",
    "    return {\n",
    "        \"temperature\": result[\"temperature\"][\"degrees\"],\n",
    "        \"unit\": result[\"temperature\"][\"unit\"],\n",
    "    }"
   ]
  },
  {
   "cell_type": "code",
   "execution_count": 5,
   "metadata": {},
   "outputs": [],
   "source": [
    "memory = MemorySaver()\n",
    "client = ChatGoogleGenerativeAI(model=\"gemini-2.0-flash\", api_key=API_KEY)\n",
    "tools = [get_location_coordinates, get_current_temperature]\n",
    "\n",
    "agent_executor = create_react_agent(client, tools, checkpointer=memory)"
   ]
  },
  {
   "cell_type": "code",
   "execution_count": null,
   "metadata": {},
   "outputs": [],
   "source": [
    "config = {\"configurable\": {\"thread_id\": \"abc123\"}}\n",
    "\n",
    "for step in agent_executor.stream(\n",
    "    {\"messages\": [HumanMessage(content=\"what is the current temperature in moheda?\")]},\n",
    "    config=config,\n",
    "    stream_mode=\"values\",\n",
    "):\n",
    "    step[\"messages\"][-1].pretty_print()"
   ]
  },
  {
   "cell_type": "code",
   "execution_count": null,
   "metadata": {},
   "outputs": [],
   "source": [
    "config = {\"configurable\": {\"thread_id\": \"abc1234\"}}\n",
    "\n",
    "for step in agent_executor.stream(\n",
    "    {\"messages\": [HumanMessage(content=\"what is the current temperature in moheda and lessebo?\")]},\n",
    "    config=config,\n",
    "    stream_mode=\"values\",\n",
    "):\n",
    "    step[\"messages\"][-1].pretty_print()"
   ]
  }
 ],
 "metadata": {
  "kernelspec": {
   "display_name": ".venv",
   "language": "python",
   "name": "python3"
  },
  "language_info": {
   "codemirror_mode": {
    "name": "ipython",
    "version": 3
   },
   "file_extension": ".py",
   "mimetype": "text/x-python",
   "name": "python",
   "nbconvert_exporter": "python",
   "pygments_lexer": "ipython3",
   "version": "3.13.3"
  }
 },
 "nbformat": 4,
 "nbformat_minor": 2
}
