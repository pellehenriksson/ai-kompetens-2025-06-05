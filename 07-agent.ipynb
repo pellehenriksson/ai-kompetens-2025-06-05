{
 "cells": [
  {
   "cell_type": "markdown",
   "metadata": {},
   "source": [
    "### 07. AI-agent\n",
    "\n",
    "- En AI-agent är ett system som kan agera autonomt för att uppnå ett mål\n",
    "    - ta in information (input),\n",
    "    - fatta beslut baserat på regler, logik eller maskininlärning,\n",
    "    - och utföra åtgärder (t.ex. kalla på verktyg eller API:er).\n",
    "\n",
    "https://python.langchain.com/docs/integrations/chat/google_generative_ai/\n",
    "\n",
    "![07 diagram](docs/07.drawio.png)"
   ]
  },
  {
   "cell_type": "code",
   "execution_count": 10,
   "metadata": {},
   "outputs": [],
   "source": [
    "import os\n",
    "import json\n",
    "\n",
    "from dotenv import load_dotenv\n",
    "import httpx\n",
    "\n",
    "from langchain_google_genai import ChatGoogleGenerativeAI\n",
    "from langchain_core.tools import tool #decorator\n",
    "from langchain_core.messages import HumanMessage\n",
    "from langgraph.checkpoint.memory import MemorySaver\n",
    "from langgraph.prebuilt import create_react_agent\n",
    "\n",
    "\n",
    "load_dotenv()\n",
    "API_KEY = os.getenv(\"GOOGLE_API_KEY\")  # load the api key from another file (.env)"
   ]
  },
  {
   "cell_type": "code",
   "execution_count": 11,
   "metadata": {},
   "outputs": [],
   "source": [
    "@tool\n",
    "def get_location_coordinates(location: str) -> dict:\n",
    "    \"\"\"returns coordinates in latitude and longitude for the given location\n",
    "\n",
    "    Args:\n",
    "        location (str): the location\n",
    "\n",
    "    Returns:\n",
    "        dict: latitude and longitude\n",
    "    \"\"\"\n",
    "\n",
    "    url = f\"https://maps.googleapis.com/maps/api/geocode/json?address={location}&key={API_KEY}\"\n",
    "\n",
    "    response = httpx.get(url)\n",
    "    result = json.loads(response.text)\n",
    "    location = result[\"results\"][0][\"geometry\"][\"location\"]\n",
    "\n",
    "    return {\"latitude\": location[\"lat\"], \"longitude\": location[\"lng\"]}"
   ]
  },
  {
   "cell_type": "code",
   "execution_count": 12,
   "metadata": {},
   "outputs": [],
   "source": [
    "@tool\n",
    "def get_current_temperature(latitude: str, longitude: str) -> dict:\n",
    "    \"\"\"return the current temperatire for the given coordinates\n",
    "\n",
    "    Args:\n",
    "        latitude (str): latitude\n",
    "        longitude (str): longitude\n",
    "\n",
    "    Returns:\n",
    "        dict: the temperature\n",
    "    \"\"\"\n",
    "\n",
    "    url = f\"https://weather.googleapis.com/v1/currentConditions:lookup?key={API_KEY}&location.latitude={latitude}&location.longitude={longitude}\"\n",
    "    response = httpx.get(url)\n",
    "    result = json.loads(response.text)\n",
    "\n",
    "    return {\n",
    "        \"temperature\": result[\"temperature\"][\"degrees\"],\n",
    "        \"unit\": result[\"temperature\"][\"unit\"],\n",
    "    }"
   ]
  },
  {
   "cell_type": "code",
   "execution_count": 13,
   "metadata": {},
   "outputs": [],
   "source": [
    "memory = MemorySaver()\n",
    "client = ChatGoogleGenerativeAI(model=\"gemini-2.0-flash\", api_key=API_KEY)\n",
    "tools = [get_location_coordinates, get_current_temperature]\n",
    "\n",
    "agent_executor = create_react_agent(client, tools, checkpointer=memory)"
   ]
  },
  {
   "cell_type": "code",
   "execution_count": 17,
   "metadata": {},
   "outputs": [
    {
     "name": "stdout",
     "output_type": "stream",
     "text": [
      "================================\u001b[1m Human Message \u001b[0m=================================\n",
      "\n",
      "what is the current temperature in moheda?\n",
      "==================================\u001b[1m Ai Message \u001b[0m==================================\n",
      "Tool Calls:\n",
      "  get_location_coordinates (51bb9cbc-e46c-43f5-8314-3a7f95c44c86)\n",
      " Call ID: 51bb9cbc-e46c-43f5-8314-3a7f95c44c86\n",
      "  Args:\n",
      "    location: moheda\n",
      "=================================\u001b[1m Tool Message \u001b[0m=================================\n",
      "Name: get_location_coordinates\n",
      "\n",
      "{\"latitude\": 57.0027566, \"longitude\": 14.5732973}\n",
      "==================================\u001b[1m Ai Message \u001b[0m==================================\n",
      "Tool Calls:\n",
      "  get_current_temperature (1d8e5666-c67d-47dd-aca0-a34470a731f4)\n",
      " Call ID: 1d8e5666-c67d-47dd-aca0-a34470a731f4\n",
      "  Args:\n",
      "    longitude: 14.5732973\n",
      "    latitude: 57.0027566\n",
      "=================================\u001b[1m Tool Message \u001b[0m=================================\n",
      "Name: get_current_temperature\n",
      "\n",
      "{\"temperature\": 19.1, \"unit\": \"CELSIUS\"}\n",
      "==================================\u001b[1m Ai Message \u001b[0m==================================\n",
      "\n",
      "The current temperature in Moheda is 19.1 degrees Celsius.\n"
     ]
    }
   ],
   "source": [
    "config = {\"configurable\": {\"thread_id\": \"abc123\"}}\n",
    "for step in agent_executor.stream(\n",
    "    {\"messages\": [HumanMessage(content=\"what is the current temperature in moheda?\")]},\n",
    "    config=config,\n",
    "    stream_mode=\"values\",\n",
    "):\n",
    "    step[\"messages\"][-1].pretty_print()"
   ]
  }
 ],
 "metadata": {
  "kernelspec": {
   "display_name": ".venv",
   "language": "python",
   "name": "python3"
  },
  "language_info": {
   "codemirror_mode": {
    "name": "ipython",
    "version": 3
   },
   "file_extension": ".py",
   "mimetype": "text/x-python",
   "name": "python",
   "nbconvert_exporter": "python",
   "pygments_lexer": "ipython3",
   "version": "3.13.3"
  }
 },
 "nbformat": 4,
 "nbformat_minor": 2
}
