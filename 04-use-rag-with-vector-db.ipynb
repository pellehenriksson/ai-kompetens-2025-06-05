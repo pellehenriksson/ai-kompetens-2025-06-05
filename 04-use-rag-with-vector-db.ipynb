{
 "cells": [
  {
   "cell_type": "markdown",
   "metadata": {},
   "source": [
    "### 04. RAG med Vector Databas\n",
    "\n",
    "- mer avancerade uppslag av data som sedan skickas med i prompten\n",
    "\n",
    "- todo: förklara grovt vad en vector db är ??\n",
    "\n",
    "![04 diagram](docs/04.drawio.png)"
   ]
  },
  {
   "cell_type": "code",
   "execution_count": 6,
   "metadata": {},
   "outputs": [],
   "source": [
    "import os\n",
    "from dotenv import load_dotenv\n",
    "\n",
    "from google import genai  # client for google gemini api\n",
    "from google.genai import types\n",
    "\n",
    "import chromadb\n",
    "\n",
    "from langchain_community.document_loaders import PyPDFDirectoryLoader\n",
    "from langchain_text_splitters import RecursiveCharacterTextSplitter\n",
    "\n",
    "load_dotenv()\n",
    "API_KEY = os.getenv(\"GOOGLE_API_KEY\")  # load the api key from another file (.env)\n",
    "\n",
    "client = genai.Client(api_key=API_KEY)  # create an instance of the client"
   ]
  },
  {
   "cell_type": "code",
   "execution_count": 9,
   "metadata": {},
   "outputs": [
    {
     "name": "stderr",
     "output_type": "stream",
     "text": [
      "C:\\Users\\pedhe\\.cache\\chroma\\onnx_models\\all-MiniLM-L6-v2\\onnx.tar.gz: 100%|██████████| 79.3M/79.3M [00:07<00:00, 10.8MiB/s]\n"
     ]
    }
   ],
   "source": [
    "# ladda vector databas\n",
    "chroma_client = chromadb.PersistentClient(path=\"data/vector_db\")\n",
    "collection = chroma_client.get_or_create_collection(name=\"some_data\")\n",
    "\n",
    "# ladda pdf-filer\n",
    "loader = PyPDFDirectoryLoader(\"data/documents\")\n",
    "raw_documents = loader.load()\n",
    "\n",
    "\n",
    "# splitta filer i delar\n",
    "text_splitter = RecursiveCharacterTextSplitter(\n",
    "    chunk_size=300,\n",
    "    chunk_overlap=100,\n",
    "    length_function=len,\n",
    "    is_separator_regex=False,\n",
    ")\n",
    "\n",
    "chunks = text_splitter.split_documents(raw_documents)\n",
    "\n",
    "# preparing to be added in chromadb\n",
    "documents = []\n",
    "metadata = []\n",
    "ids = []\n",
    "\n",
    "i = 0\n",
    "\n",
    "for chunk in chunks:\n",
    "    documents.append(chunk.page_content)\n",
    "    ids.append(\"ID\"+str(i))\n",
    "    metadata.append(chunk.metadata)\n",
    "\n",
    "    i += 1\n",
    "\n",
    "# adding to chromadb\n",
    "collection.upsert(\n",
    "    documents=documents,\n",
    "    metadatas=metadata,\n",
    "    ids=ids\n",
    ")"
   ]
  },
  {
   "cell_type": "code",
   "execution_count": 11,
   "metadata": {},
   "outputs": [
    {
     "name": "stdout",
     "output_type": "stream",
     "text": [
      "[['inte att använda förrän ServiceCenter genomfört kontroll. Efter kontroll frisläpps ny kund enligt ordinarie rutin i D365. •Om loggning finns inbyggt i ramverket så ingår det annars måste det utredasEstimat för MVP 1; 160 tSEK (inkluderat i nuvarande budget)Genomförande under 5-6 veckor.   *MVP är', 'SPOE - Omfattning för MVP 1MVP*  – En första körbar produkt med nedan innehåll: •En PowerApp för att skapa ny kund i D365 (F&O Kundmasterdata koncerngemensamma, 12-15 attribut som används idag av ServiceCenter) Wood Sverige.•Möjlighet att göra val från DropDown med live-data från D365.•Validering av', 'förvaltningen och sedan vid behov vidare till GST förvaltningen.• Vidareutveckling initieras av produktägaren‒ Team: wipro och representant från superuser grupp‒ Vid stor förändring initiera projektteam• Testning:‒ Utv tester - Wipro‒ Acc tester - Superuser gruppen + ev utvalda säljare2021-04-26 15', 'Wood Sverige.•Möjlighet att göra val från DropDown med live-data från D365.•Validering av fält i största möjliga mån. (Vill inte få in ”dålig” information)•Kunden skapas när den matas in, men den går inte att använda förrän ServiceCenter genomfört kontroll. Efter kontroll frisläpps ny kund enligt']]\n"
     ]
    }
   ],
   "source": [
    "results = collection.query(\n",
    "    query_texts=[\"hur lång tid kommer genomförandet av spoe-projektet att pågå\"],\n",
    "    n_results=4\n",
    ")\n",
    "\n",
    "print(results['documents'])"
   ]
  },
  {
   "cell_type": "code",
   "execution_count": null,
   "metadata": {},
   "outputs": [],
   "source": [
    "system_prompt = \"\"\"\n",
    "You are a helpful assistant. You answer questions about the SPOE project. \n",
    "But you only answer based on knowledge I'm providing you. You don't use your internal \n",
    "knowledge and you don't make things up. If you don't know the answer, just say: I don't know\n",
    "--------------------\n",
    "The data:\n",
    "\"\"\"+str(results['documents'])+\"\"\"\n",
    "\"\"\"\n",
    "\n",
    "# concat to array with qurty -> system -> user\n",
    "\n",
    "\n",
    "response = client.models.generate_content(\n",
    "    model=\"gemini-2.0-flash\", contents=\"tell me one funny joke, max 100 words\"\n",
    ")\n",
    "\n",
    "# skriv ut svar från api\n",
    "print(response.candidates[0].content.parts[0].text)"
   ]
  }
 ],
 "metadata": {
  "kernelspec": {
   "display_name": ".venv",
   "language": "python",
   "name": "python3"
  },
  "language_info": {
   "codemirror_mode": {
    "name": "ipython",
    "version": 3
   },
   "file_extension": ".py",
   "mimetype": "text/x-python",
   "name": "python",
   "nbconvert_exporter": "python",
   "pygments_lexer": "ipython3",
   "version": "3.13.3"
  }
 },
 "nbformat": 4,
 "nbformat_minor": 2
}
